{
  "nbformat": 4,
  "nbformat_minor": 0,
  "metadata": {
    "colab": {
      "provenance": []
    },
    "kernelspec": {
      "name": "python3",
      "display_name": "Python 3"
    },
    "language_info": {
      "name": "python"
    }
  },
  "cells": [
    {
      "cell_type": "markdown",
      "source": [
        "Q.1) What are data structures and why are they important?\n",
        "     \n",
        "==)) DATA STRUCTURE= It refers to the way data is organized, stored & manipulated in a computer so that it canbe efficiently accessed and used. Data structure are essential for main two reason:- they make the code more efficient, and they make the code easier to understand.\n",
        "\n",
        "\n",
        "Q.2) Explain the difference between mutable and immutable data types with examples.\n",
        "     \n",
        "==)) Mutable: #Definition= objects whose state or value canbe changed after they are created. #Examples= lists, dictionaries, sets. #Memory allocation= can modify in place without creating a new object. #Behaviour with assignment= assigning a new reference does not affect other references.\n",
        "\n",
        "Immutable: #Definition= objects whose state or value cannot be changed once they are created. #Examples= integars,floats,strings,tuples,frozensets. #Memory allocation= creating a new object is required when attempting to modify. #Behaviour with assignment= assigning a new reference creates a new objects, leaving the original unchanged.\n",
        "\n",
        "\n",
        "Q.3) What are the main differences between lists and tuples in python?\n",
        "     \n",
        "==)) LIST: #Mutability= mutable #Syntax= enclosed in square[] bracket. #Length= it canbe changed, i.e.,a new element canbe added. #Operation= elements canbe added, removed or modified. #Examples= employee=['A', 'B', 'C']\n",
        "\n",
        "TUPLE: #Mutability= immutable\n",
        "       #Syntax= enclosed in square(()) bracket.\n",
        "       #Length= length is fixed,i.e,new elements cannot be added.\n",
        "       #Operation= it supports indexing, slicing and iterating over elements.\n",
        "       #Example= employee number= (1001,1002,1003)\n",
        "       \n",
        "\n",
        "Q.4) Describe how dictionaries store data.\n",
        "\n",
        "     \n",
        "==)) Python dictionaries store data as key-value pairs, using a hash table implementation for efficient data retrieval, allowing quick access to values using their unique keys.\n",
        "\n",
        "Key-value pairs= dictionaries consist of pairs where each key is associated with a unique value.\n",
        "Hash table implementation= python dictionaries are implemented as hash tables, which use a hashing algorithm to map keys to their corresponding memory loactions for fast access.\n",
        "Example= my_dict: {\"name\": \"Alice\", \"age\":30, \"city\": \"Kolkata\"}\n",
        "       print(my_dict[\"name\"])\n",
        "       print(my_dict[\"city\"])\n",
        "      OUTPUT- Alice\n",
        "              Kolkata\n",
        "              \n",
        "\n",
        "Q.5) Why might you use a set instead of a list in python?\n",
        "     \n",
        "==)) There are some important points to the understanding of set instead of list in python:-\n",
        "\n",
        "If you dont want the values in the data to change, you can use a set. But if you want the items to change, you can use a list.\n",
        "A set, on the other hand, is an unordered collection of unique elemets.\n",
        "A list in python is an ordered collections of elements that can contain duplicates.\n",
        "Examples of a set:\n",
        "my_set= {1,2,3,4,5} -)no duplicates elements print(3 in my_set) -)output= TRUE\n",
        "\n",
        "Examples of a list:\n",
        "my_list= [1,2,3,4,5,1,2] -)duplicates elements allowed print(3 in my_list) -)output= TRUE\n",
        "\n",
        "\n",
        "Q.6) What is a string in python, and how is it different from a list?\n",
        "     \n",
        "==)) STRING= In python, a string is a sequence of characters, like \"Hello, world!\", and is used to store and manipulate text.\n",
        "\n",
        "String is differ from a list. How?\n",
        "\n",
        "strings are immutable sequences of characters, while lists are mutable sequences that can contain various data types.\n",
        "Strings are enclosed in single or double quotes.\n",
        "Lists items are enclosed in square brackets[].\n",
        "If you need to modify a string, you must create a new one.\n",
        "But, in list you can change them after creation by adding, removing or replacing elements.\n",
        "\n",
        "Q.7) How do tuples ensure data integrity in python?\n",
        "\n",
        "     \n",
        "==)) Tuples in python are immutable, meaning once they are created, they cannot be changed. This charateristics canbe leveraged for data integrity by using tuples for data that should not be modified after creation.\n",
        "\n",
        "\n",
        "Q.8) What is a hash table, and how does it relate to dictionaries in python?\n",
        "\n",
        "     \n",
        "==)) Hash Table= A hash table is a data structure that is used to store keys/value pairs.\n",
        "\n",
        "How dictionaries use hash tables.\n",
        "\n",
        "In python, the dict data type(dictionaries) is built on top of a hash table implementation.\n",
        "When you create a dictionary, python uses a hash function to calculate a hash code for each key.\n",
        "This hash code is then used to determine the index in the underlying array where the value associated with that key will be sorted.\n",
        "This allows for very fast retrieval of values by using the keys as input to the hash function.\n",
        "\n",
        "Q.9) Can lists contain different data types in python?\n",
        "     \n",
        "==)) A list in python CAN contain different types of data. Each item in the list is separated by a comma and the entire list is enclosed in square brackets[]. To add a new item to the list, just edit the list starting before the closing bracket. add a comma and the new item. It doesnot matter what the type is for the previous item. In the example below, the elements list contains the name of an element and its atomic number and mass. The list then contains the same data for another element. The data types contained in the list are strings, integars, and floating point values.\n",
        "\n",
        "elements= ['Hydrogen', 1, 1.007825, 'Helium', 2, 4.00260]\n",
        "\n",
        "\n",
        "Q.10) Explain why strings are immutable in python.\n",
        "\n",
        "     \n",
        "==)) In python, strings are immutable, which means that once a string is created, it cannot be modified. However, the replace () method canbe used to create a new string with some of the characters in the original string replaced with different characters. This is done by calling the replace() method on a string, passing in the characters that you want to replace, and specifying the replacement characters. The original string is not modified, but a new string is returned with the specified replacements.\n",
        "\n",
        "\n",
        "Q.11) What advantages do dictionaries offer over lists for certain tasks?\n",
        "\n",
        "     \n",
        "==)) Dictionaries excel over lists when you need efficient data retrieval by key, offer flexibility in data organization, and require clear code readability for key-value pairs. Advantages:- # key-value pair organization # dynamic size # readability # fast lookup, etc. When dictionaries are better:- # data retrieval by key # associating data # handling complex data # building lookup tables When lists are better:- # sequential data # modifying data # simple iteration # storage and retrieval by index.\n",
        "\n",
        "\n",
        "Q.12) Describe a scenario where using a tuple would be preferable over a list.\n",
        "\n",
        "     \n",
        "==)) Tuples are immutable. Hence, they are primarily used to store data that does not change frequently. Any operation can store data in a tuple when you donot want it to change. Tuples are great to use if you want the data in your collection to be read-only, never to change, and always remain the same and constant. It is beneficial when you need to store values that donot change over time, like a person's birthdate or height.\n",
        "\n",
        "\n",
        "Q.13) How do sets handle duplicate values in python?\n",
        "     \n",
        "==)) To remove duplicates from a python list while preserving order, create a dictionary from the list and then extract its keys as a new list: list(dict.fromkeys(my_list)) Let's look at the steps required to remove duplicates from a list using this technique:-\n",
        "\n",
        "The list is cast into a set, which removes all the duplicates.\n",
        "The set is cast back into a new list, which only contains unique values.\n",
        "\n",
        "Q.14) How does the \"in\" keyword work differently for lists and dictionaries?\n",
        "     \n",
        "==)) In python, lists are ordered collections of items, accessed by index, while dictionaries store key-value pairs and are accessed by keys. Lists are mutable(changeable), while dictionaries are also mutable.\n",
        "\n",
        "List Examples:\n",
        "creating a list\n",
        "my_list= [1,2,3,\"apple\",True]\n",
        "print (my_list)\n",
        "output: [1,2,3,'apple',True]\n",
        "#accessing elements by indexing print(my_list[0]) -)1 print(my_list[3]) -)apple\n",
        "\n",
        "modifying a list\n",
        "my_list[0]=10      \n",
        "print(my_list)      -)[10,2,3,'apple',True]\n",
        "#adding elements my_list.append(\"banana\") print(my_list) -)[10,2,3,'apple',True,'banana']\n",
        "\n",
        "removing elements\n",
        "my_list.remove(\"apple\")\n",
        "print(my_list)      -)[10,2,3,True,'banana']\n",
        "Dictionary Examples:\n",
        "creating a dictionary\n",
        "my_dict= {\"name\": \"Alice\", \"age\": 30, \"city\": \"New York\"}\n",
        "print(my_dict)\n",
        "output-) {'name': 'Alice', 'age': 30, 'city': 'New York'}\n",
        "#accessing values by key print(my_dict[\"name\"]) -)Alice print(my_dict[\"city\"]) -)New York\n",
        "\n",
        "modifying a dictionary\n",
        "my_dict[\"age\"]             -)30\n",
        "print(my_dict)             -){'name': 'Alice', 'age':30, 'city': 'New York'}\n",
        "#adding a new key-value pair my_dict[\"occupation\"]= \"Engineer\" print(my_dict) -){'name': 'Alice', 'age': 30, 'city': 'New York', 'occupation': 'Engineer'}\n",
        "\n",
        "removing a key-value pair\n",
        "del my_dict[\"city\"]\n",
        "print(my_dict)             -){'name': 'Alice', 'age':30, 'occupation': 'Engineer'}\n",
        "\n",
        "Q.15) Can you modify the elements of a tuple? Explain why or why not.\n",
        "\n",
        "     \n",
        "==)) No, you cannot directly modify the elements of a tuple once it has been created. Tuples are immutable data structures, meaning their contents cannot be changed after they are defined.\n",
        "\n",
        "Why?\n",
        "\n",
        "Immutability= tuples are desgined to be immutable, ensuring their contents remain constant after creation.\n",
        "Efficiency= the immutability of tuples allows for optimizations like memory management and caching, as the interpreter can assume the data will not change.\n",
        "Data Integrity.\n",
        "Why not? Due to tuple's immutability, the contents of a tuple cannot change once it has been created in python.\n",
        "\n",
        "\n",
        "Q.16) What ia s nested dictionary, and give an example of its use case?\n",
        "\n",
        "     \n",
        "==)) Nested Dictionaries= Nested dictionaries in python refer to dictionaries that are stored as values within another dictionary.\n",
        "\n",
        "Use Cases.\n",
        "\n",
        "people= {1:{'name': 'John', 'age': 27, 'sex': 'Male'}\n",
        "       2:{'name': 'Marie', 'age': 22, 'sex': 'Female'}}\n",
        "print(people) -) {1:{'name': 'John', 'age': 27, 'sex': 'Male'}, 2:{'name': 'Marie', 'age': 22, 'sex': 'Female'}}\n",
        "\n",
        "\n",
        "Q.17) Describe the time complexity of accessing elements in a dictionary.\n",
        "\n",
        "     \n",
        "==)) The time complexity of dictionary operations in python depends on the size of the dictionary and the specific operation being performed. Here's a summary of the time complexity of some common dictionary operations:-\n",
        "\n",
        "accessing a value by key: O(1) on average, o(n)worst case if there are many collisions.\n",
        "adding a key-value pair: O(1) on average, o(n)worst case if the dictionary needs to be resized.\n",
        "modifying a value by key: O(1) on average, o(n)worst case if there are many collisions.\n",
        "removing a key-value pair by key: O(1) on average, o(n)worst case if there are many collisions.\n",
        "iterating over the keys, values, or items: o(n), where n is the number of key-value pairs in the dictionary.\n",
        "\n",
        "Q.18) In what situations are lists preferred over dictionaries?\n",
        "\n",
        "     \n",
        "==)) Lists are preferred over dictionaries in python when order matters, you need to store multiple values for an item, or when you are performing ordered operations like sorting. Lists also allow duplicate items, while dictionaries cannot have duplicate keys.\n",
        "\n",
        "Order= lists are ordered collections, meaning the order of elements is preserved.\n",
        "Multiple values= if you want to store multiple values for a single item, a list canbe used to hold those values.\n",
        "Simple data storage= lists are simpler and easier to work with for basic data storage when you donot need the key-value association of a dictionary.\n",
        "Ordered operations.\n",
        "Duplication.\n",
        "\n",
        "Q.19) Why are dictionaries considered unordered, and how does that affect data retrieval?\n",
        "     \n",
        "==)) Why? #Dictionary is termed as an unordered collection of object because the printed order of elements is not same as the order in which the elements are stored. #Dictionaries are structured to lookup information quickly, rather than to keep ordered information.\n",
        "\n",
        " How does affect data retrieval?\n",
        " #you can't access dictionary elements based on their position value.\n",
        " #you need to provide a key to access the corresponding value.\n",
        " #when you loop through a dictionary, you will go through every day, but you are not guaranteed to get them in any particular order.\n",
        "\n",
        "\n",
        "Q.20) Explain the difference between a list and a dictionary in terms of data retrieval.\n",
        "     \n",
        "==)) In python, lists are best for sequential data access, while dictionaries are best for data retrieval by specific identifiers.\n",
        "\n",
        "List: #data structure= ordered collections of items\n",
        "     #access= accessed by index\n",
        "     #duplicates= allows duplicates items\n",
        "     #data types= can store any data type\n",
        "     #use cases= ordered collections and sequence operations.\n",
        "Dictionary: #data structure= unordered collections of key-value pairs\n",
        "           #access= accessed by key\n",
        "           #duplicates= doesnot allow duplicates keys\n",
        "           #data types= keys canbe of any immutable data type, values canbe of any data type\n",
        "           #use cases= quick data look-ups, configurations, or caches.\n",
        "\n",
        "PRACTICAL QUESTIONS.."
      ],
      "metadata": {
        "id": "MNKPl-xppSfR"
      }
    },
    {
      "cell_type": "markdown",
      "source": [
        "Q.1) Write a code to create a string with your name and print it."
      ],
      "metadata": {
        "id": "PuLQYpVlpYIr"
      }
    },
    {
      "cell_type": "code",
      "source": [
        "  name= \"My name is Mihir\"\n",
        "  print(name)\n",
        ""
      ],
      "metadata": {
        "colab": {
          "base_uri": "https://localhost:8080/"
        },
        "id": "--JZKLeupamC",
        "outputId": "013f9795-aa2c-46fd-fa01-e69880244ec8"
      },
      "execution_count": 1,
      "outputs": [
        {
          "output_type": "stream",
          "name": "stdout",
          "text": [
            "My name is Mihir\n"
          ]
        }
      ]
    },
    {
      "cell_type": "markdown",
      "source": [
        "Q.2) Write a code to find the length of the string \"Hello World\""
      ],
      "metadata": {
        "id": "rbYshVHepijr"
      }
    },
    {
      "cell_type": "code",
      "source": [
        "text = \"Hello World\"\n",
        "length = len(text)\n",
        "print(\"Length of the string:\", length)\n"
      ],
      "metadata": {
        "colab": {
          "base_uri": "https://localhost:8080/"
        },
        "id": "mgsc9HonpjI7",
        "outputId": "04a6a38b-8530-4cf8-ee9f-b56af74a3e4c"
      },
      "execution_count": 2,
      "outputs": [
        {
          "output_type": "stream",
          "name": "stdout",
          "text": [
            "Length of the string: 11\n"
          ]
        }
      ]
    },
    {
      "cell_type": "markdown",
      "source": [
        "Q.3) Write a code to slice the first 3 characters from the string \"python programming\""
      ],
      "metadata": {
        "id": "rwqmQ3ZpprtM"
      }
    },
    {
      "cell_type": "code",
      "source": [
        "text = \"python programming\"\n",
        "sliced = text[:3]\n",
        "print(\"First 3 characters:\", sliced)\n"
      ],
      "metadata": {
        "colab": {
          "base_uri": "https://localhost:8080/"
        },
        "id": "nxVDuS2Ept2t",
        "outputId": "4e397d89-b89e-4341-a836-2d66de6cd23d"
      },
      "execution_count": 3,
      "outputs": [
        {
          "output_type": "stream",
          "name": "stdout",
          "text": [
            "First 3 characters: pyt\n"
          ]
        }
      ]
    },
    {
      "cell_type": "markdown",
      "source": [
        "Q.4) Write a code to convert the string \"hello\" to uppercase."
      ],
      "metadata": {
        "id": "Yvi4y80Opz-9"
      }
    },
    {
      "cell_type": "code",
      "source": [
        "text = \"hello\"\n",
        "uppercase_text = text.upper()\n",
        "print(\"Uppercase:\", uppercase_text)\n"
      ],
      "metadata": {
        "colab": {
          "base_uri": "https://localhost:8080/"
        },
        "id": "1ti69pJxp3DN",
        "outputId": "dbbd9074-0dda-420f-89e8-d903fbd9161f"
      },
      "execution_count": 4,
      "outputs": [
        {
          "output_type": "stream",
          "name": "stdout",
          "text": [
            "Uppercase: HELLO\n"
          ]
        }
      ]
    },
    {
      "cell_type": "markdown",
      "source": [
        "Q.5) Write a code to replace the word \"apple\" with \"orange\" in the string \"I like apple\".\n"
      ],
      "metadata": {
        "id": "-QnFtdDgp4eF"
      }
    },
    {
      "cell_type": "code",
      "source": [
        "text = \"I like apple\"\n",
        "new_text = text.replace(\"apple\", \"orange\")\n",
        "print(\"Updated string:\", new_text)\n"
      ],
      "metadata": {
        "colab": {
          "base_uri": "https://localhost:8080/"
        },
        "id": "IjncglHFp-AW",
        "outputId": "d5a807d6-a712-4312-ff93-f476aeb27544"
      },
      "execution_count": 6,
      "outputs": [
        {
          "output_type": "stream",
          "name": "stdout",
          "text": [
            "Updated string: I like orange\n"
          ]
        }
      ]
    },
    {
      "cell_type": "markdown",
      "source": [
        "Q.6) Write a code to create a list with numbers 1 to 5 and print it."
      ],
      "metadata": {
        "id": "0aVYRkz0qQBA"
      }
    },
    {
      "cell_type": "code",
      "source": [
        "numbers = [1, 2, 3, 4, 5]\n",
        "print(\"List of numbers:\", numbers)\n"
      ],
      "metadata": {
        "colab": {
          "base_uri": "https://localhost:8080/"
        },
        "id": "j_85hzyIqS7A",
        "outputId": "72b27008-7a9e-4da5-b513-c04bdd8af4bb"
      },
      "execution_count": 7,
      "outputs": [
        {
          "output_type": "stream",
          "name": "stdout",
          "text": [
            "List of numbers: [1, 2, 3, 4, 5]\n"
          ]
        }
      ]
    },
    {
      "cell_type": "markdown",
      "source": [
        "Q.7) Write a code to append the number 10 to the list [1,2,3,4]."
      ],
      "metadata": {
        "id": "DzFvlypKqVgA"
      }
    },
    {
      "cell_type": "code",
      "source": [
        "numbers = [1, 2, 3, 4]\n",
        "numbers.append(10)\n",
        "print(\"Updated list:\", numbers)\n"
      ],
      "metadata": {
        "colab": {
          "base_uri": "https://localhost:8080/"
        },
        "id": "yXxHWeLdqWER",
        "outputId": "4241800d-4131-4b93-9371-5fef2a670f16"
      },
      "execution_count": 8,
      "outputs": [
        {
          "output_type": "stream",
          "name": "stdout",
          "text": [
            "Updated list: [1, 2, 3, 4, 10]\n"
          ]
        }
      ]
    },
    {
      "cell_type": "markdown",
      "source": [
        "Q.8) Write a code to remove the number 3 from the list [1,2,3,4,5]."
      ],
      "metadata": {
        "id": "FvsG9FaBqZrK"
      }
    },
    {
      "cell_type": "code",
      "source": [
        "numbers = [1, 2, 3, 4, 5]\n",
        "numbers.remove(3)\n",
        "print(\"Updated list:\", numbers)\n"
      ],
      "metadata": {
        "colab": {
          "base_uri": "https://localhost:8080/"
        },
        "id": "Cmwtugs5qfG5",
        "outputId": "f94859c0-298e-47bc-9732-17e923c09bee"
      },
      "execution_count": 9,
      "outputs": [
        {
          "output_type": "stream",
          "name": "stdout",
          "text": [
            "Updated list: [1, 2, 4, 5]\n"
          ]
        }
      ]
    },
    {
      "cell_type": "markdown",
      "source": [
        "Q.9) Write a code to access the second element in the list ['a','b','c','d']."
      ],
      "metadata": {
        "id": "xO_owinTqg2J"
      }
    },
    {
      "cell_type": "code",
      "source": [
        "letters = ['a', 'b', 'c', 'd']\n",
        "second_element = letters[1]\n",
        "print(\"Second element:\", second_element)\n"
      ],
      "metadata": {
        "colab": {
          "base_uri": "https://localhost:8080/"
        },
        "id": "z8-qLHkwqtQj",
        "outputId": "fa39f509-67c6-4216-955b-b3e89b81daf2"
      },
      "execution_count": 10,
      "outputs": [
        {
          "output_type": "stream",
          "name": "stdout",
          "text": [
            "Second element: b\n"
          ]
        }
      ]
    },
    {
      "cell_type": "markdown",
      "source": [
        "Q.10) Write a code to reverse the list [10,20,30,40,50]."
      ],
      "metadata": {
        "id": "m1ndxUoiqxZU"
      }
    },
    {
      "cell_type": "code",
      "source": [
        "numbers = [10, 20, 30, 40, 50]\n",
        "numbers.reverse()\n",
        "print(\"Reversed list:\", numbers)\n"
      ],
      "metadata": {
        "colab": {
          "base_uri": "https://localhost:8080/"
        },
        "id": "gtSe7cPLq13s",
        "outputId": "a87682e8-28ea-409f-e752-63dc2e0cfb85"
      },
      "execution_count": 11,
      "outputs": [
        {
          "output_type": "stream",
          "name": "stdout",
          "text": [
            "Reversed list: [50, 40, 30, 20, 10]\n"
          ]
        }
      ]
    },
    {
      "cell_type": "markdown",
      "source": [
        "Q.11) Write a code to create a tuple with the elements 100,200,300 and print it.\n"
      ],
      "metadata": {
        "id": "DJDCDPe1sqV4"
      }
    },
    {
      "cell_type": "code",
      "source": [
        "my_tuple = (100, 200, 300)\n",
        "print(\"Tuple:\", my_tuple)\n"
      ],
      "metadata": {
        "colab": {
          "base_uri": "https://localhost:8080/"
        },
        "id": "4l2q3mpHsv4I",
        "outputId": "abfafd7f-9221-47ee-a632-59c230dddf13"
      },
      "execution_count": 12,
      "outputs": [
        {
          "output_type": "stream",
          "name": "stdout",
          "text": [
            "Tuple: (100, 200, 300)\n"
          ]
        }
      ]
    },
    {
      "cell_type": "markdown",
      "source": [
        "Q.12) Write a code to access the second-to-last element of the tuple ('red','green','blue','yellow')."
      ],
      "metadata": {
        "id": "x_2GJLbes3TZ"
      }
    },
    {
      "cell_type": "code",
      "source": [
        "colors = ('red', 'green', 'blue', 'yellow')\n",
        "second_to_last = colors[-2]\n",
        "print(\"Second-to-last element:\", second_to_last)\n"
      ],
      "metadata": {
        "colab": {
          "base_uri": "https://localhost:8080/"
        },
        "id": "ozULhcQNs7B7",
        "outputId": "72207456-71b0-4a5f-fc1e-11c547d2716d"
      },
      "execution_count": 13,
      "outputs": [
        {
          "output_type": "stream",
          "name": "stdout",
          "text": [
            "Second-to-last element: blue\n"
          ]
        }
      ]
    },
    {
      "cell_type": "markdown",
      "source": [
        "Q.13) Write a code to find the minimum number in the tuple (10,20,5,15)."
      ],
      "metadata": {
        "id": "7_tzoGSXtA9a"
      }
    },
    {
      "cell_type": "code",
      "source": [
        "numbers = (10, 20, 5, 15)\n",
        "minimum = min(numbers)\n",
        "print(\"Minimum number:\", minimum)\n"
      ],
      "metadata": {
        "colab": {
          "base_uri": "https://localhost:8080/"
        },
        "id": "rbQnn8m0tCDC",
        "outputId": "0da30932-5cf9-47f7-c5e0-79e2ec33beaf"
      },
      "execution_count": 14,
      "outputs": [
        {
          "output_type": "stream",
          "name": "stdout",
          "text": [
            "Minimum number: 5\n"
          ]
        }
      ]
    },
    {
      "cell_type": "markdown",
      "source": [
        "Q.14) Write a code to find the index of the element \"cat\" in the tuple ('dog,'cat','rabbit')."
      ],
      "metadata": {
        "id": "ceNO1367tFor"
      }
    },
    {
      "cell_type": "code",
      "source": [
        "animals = ('dog', 'cat', 'rabbit')\n",
        "index_cat = animals.index('cat')\n",
        "print(\"Index of 'cat':\", index_cat)\n"
      ],
      "metadata": {
        "colab": {
          "base_uri": "https://localhost:8080/"
        },
        "id": "BWfSUlqftKPr",
        "outputId": "a949383a-03df-4b99-b7b0-53414ab2fe69"
      },
      "execution_count": 15,
      "outputs": [
        {
          "output_type": "stream",
          "name": "stdout",
          "text": [
            "Index of 'cat': 1\n"
          ]
        }
      ]
    },
    {
      "cell_type": "markdown",
      "source": [
        "Q.15) Write a code to create a tuple containing three different fruits and check if \"kiwi\" is in it."
      ],
      "metadata": {
        "id": "Cs3x6kkUtNcz"
      }
    },
    {
      "cell_type": "code",
      "source": [
        "fruits = (\"apple\", \"banana\", \"mango\")\n",
        "\n",
        "if \"kiwi\" in fruits:\n",
        "    print(\"Kiwi is in the tuple.\")\n",
        "else:\n",
        "    print(\"Kiwi is not in the tuple.\")\n"
      ],
      "metadata": {
        "colab": {
          "base_uri": "https://localhost:8080/"
        },
        "id": "ZUtZ_W-XtR0E",
        "outputId": "df43fdf5-4d45-4c36-989f-dbc120f05cc1"
      },
      "execution_count": 16,
      "outputs": [
        {
          "output_type": "stream",
          "name": "stdout",
          "text": [
            "Kiwi is not in the tuple.\n"
          ]
        }
      ]
    },
    {
      "cell_type": "markdown",
      "source": [
        "Q.16) Write a code to create a set with the elements 'a','b','c' and print it."
      ],
      "metadata": {
        "id": "AdQxEJ0ytUnE"
      }
    },
    {
      "cell_type": "code",
      "source": [
        "my_set = {'a', 'b', 'c'}\n",
        "print(\"Set:\", my_set)\n"
      ],
      "metadata": {
        "colab": {
          "base_uri": "https://localhost:8080/"
        },
        "id": "c1CLpzQhtXbl",
        "outputId": "0e87073b-9335-4dbf-9b2c-3b0978d5ab11"
      },
      "execution_count": 17,
      "outputs": [
        {
          "output_type": "stream",
          "name": "stdout",
          "text": [
            "Set: {'b', 'c', 'a'}\n"
          ]
        }
      ]
    },
    {
      "cell_type": "markdown",
      "source": [
        "Q.17) Write a code to clear all elements from the set {1,2,3,4,5}."
      ],
      "metadata": {
        "id": "BWzSL7MstarF"
      }
    },
    {
      "cell_type": "code",
      "source": [
        "numbers = {1, 2, 3, 4, 5}\n",
        "numbers.clear()\n",
        "print(\"Set after clearing:\", numbers)\n"
      ],
      "metadata": {
        "colab": {
          "base_uri": "https://localhost:8080/"
        },
        "id": "ngT0Ns__tddN",
        "outputId": "4dda871f-3c74-412f-d919-5f21fca85c69"
      },
      "execution_count": 18,
      "outputs": [
        {
          "output_type": "stream",
          "name": "stdout",
          "text": [
            "Set after clearing: set()\n"
          ]
        }
      ]
    },
    {
      "cell_type": "markdown",
      "source": [
        "Q.18) Write a code to remove the element 4 from the set {1,2,3,4}."
      ],
      "metadata": {
        "id": "WDCfB7BPthIe"
      }
    },
    {
      "cell_type": "code",
      "source": [
        "numbers = {1, 2, 3, 4}\n",
        "numbers.remove(4)\n",
        "print(\"Set after removing 4:\", numbers)\n"
      ],
      "metadata": {
        "colab": {
          "base_uri": "https://localhost:8080/"
        },
        "id": "PP3yIVzbtjVW",
        "outputId": "cc89405f-1533-46b9-b081-28b3933e5bdb"
      },
      "execution_count": 19,
      "outputs": [
        {
          "output_type": "stream",
          "name": "stdout",
          "text": [
            "Set after removing 4: {1, 2, 3}\n"
          ]
        }
      ]
    },
    {
      "cell_type": "markdown",
      "source": [
        "Q.19) Write a code to find the union of two sets {1,2,3} and {3,4,5}.\n",
        "     "
      ],
      "metadata": {
        "id": "4oS7ViwYtna-"
      }
    },
    {
      "cell_type": "code",
      "source": [
        "set1 = {1, 2, 3}\n",
        "set2 = {3, 4, 5}\n",
        "\n",
        "union_set = set1.union(set2)\n",
        "print(\"Union of sets:\", union_set)\n"
      ],
      "metadata": {
        "colab": {
          "base_uri": "https://localhost:8080/"
        },
        "id": "VfgNsAsntumf",
        "outputId": "94e0ec12-71d3-41ad-e141-9cb60a2beb5f"
      },
      "execution_count": 20,
      "outputs": [
        {
          "output_type": "stream",
          "name": "stdout",
          "text": [
            "Union of sets: {1, 2, 3, 4, 5}\n"
          ]
        }
      ]
    },
    {
      "cell_type": "markdown",
      "source": [
        "Q.20) Write a code to find the intersection of two sets {1,2,3} and {2,3,4}"
      ],
      "metadata": {
        "id": "vj2su4h4tww_"
      }
    },
    {
      "cell_type": "code",
      "source": [
        "set1 = {1, 2, 3}\n",
        "set2 = {2, 3, 4}\n",
        "\n",
        "intersection_set = set1.intersection(set2)\n",
        "print(\"Intersection of sets:\", intersection_set)\n"
      ],
      "metadata": {
        "colab": {
          "base_uri": "https://localhost:8080/"
        },
        "id": "uqCBPoBFtzf4",
        "outputId": "a5286e67-fadc-45c5-a1dc-deefa591b5f2"
      },
      "execution_count": 21,
      "outputs": [
        {
          "output_type": "stream",
          "name": "stdout",
          "text": [
            "Intersection of sets: {2, 3}\n"
          ]
        }
      ]
    },
    {
      "cell_type": "markdown",
      "source": [
        "Q.21) Write a code to create a dictionary with the keys \"name\",\"age\", and \"city\", and print it"
      ],
      "metadata": {
        "id": "-Y8aFD0Wt2pJ"
      }
    },
    {
      "cell_type": "code",
      "source": [
        "person = {\n",
        "    \"name\": \"Alice\",\n",
        "    \"age\": 25,\n",
        "    \"city\": \"New York\"\n",
        "}\n",
        "\n",
        "print(\"Dictionary:\", person)\n"
      ],
      "metadata": {
        "colab": {
          "base_uri": "https://localhost:8080/"
        },
        "id": "Ax0z3vLpt7tp",
        "outputId": "96a813aa-9cc5-42d2-97dd-008911ef327b"
      },
      "execution_count": 22,
      "outputs": [
        {
          "output_type": "stream",
          "name": "stdout",
          "text": [
            "Dictionary: {'name': 'Alice', 'age': 25, 'city': 'New York'}\n"
          ]
        }
      ]
    },
    {
      "cell_type": "markdown",
      "source": [
        "Q.22) Write a code to add a new key-value pair \"country\": \"USA\" to the dictionary {'name': 'John', 'age':25}."
      ],
      "metadata": {
        "id": "6d_WJVbkuBgC"
      }
    },
    {
      "cell_type": "code",
      "source": [
        "person = {'name': 'John', 'age': 25}\n",
        "person['country'] = 'USA'\n",
        "print(\"Updated dictionary:\", person)\n"
      ],
      "metadata": {
        "colab": {
          "base_uri": "https://localhost:8080/"
        },
        "id": "Jvw7B-xRuCG6",
        "outputId": "5b3f008f-3189-4409-c4fa-01d79760e941"
      },
      "execution_count": 23,
      "outputs": [
        {
          "output_type": "stream",
          "name": "stdout",
          "text": [
            "Updated dictionary: {'name': 'John', 'age': 25, 'country': 'USA'}\n"
          ]
        }
      ]
    },
    {
      "cell_type": "markdown",
      "source": [
        "Q.23) Write a code to access the value associated with the key \"name\" in the dictionary {'name':'Alice','age':30}"
      ],
      "metadata": {
        "id": "cy61kTfSuFLE"
      }
    },
    {
      "cell_type": "code",
      "source": [
        "person = {'name': 'Alice', 'age': 30}\n",
        "name_value = person['name']\n",
        "print(\"Value for key 'name':\", name_value)\n"
      ],
      "metadata": {
        "colab": {
          "base_uri": "https://localhost:8080/"
        },
        "id": "75WP7_ODuHuA",
        "outputId": "9ef2e2cd-399b-458e-a42b-5e7daa1dc247"
      },
      "execution_count": 24,
      "outputs": [
        {
          "output_type": "stream",
          "name": "stdout",
          "text": [
            "Value for key 'name': Alice\n"
          ]
        }
      ]
    },
    {
      "cell_type": "markdown",
      "source": [
        "Q.24) Write a code to remove the key \"age\" from the dictionary {'name':'Bob','age':22,'city':'New York'}."
      ],
      "metadata": {
        "id": "8E-b3e6muLjS"
      }
    },
    {
      "cell_type": "code",
      "source": [
        "person = {'name': 'Bob', 'age': 22, 'city': 'New York'}\n",
        "person.pop('age')\n",
        "print(\"Dictionary after removing 'age':\", person)\n"
      ],
      "metadata": {
        "colab": {
          "base_uri": "https://localhost:8080/"
        },
        "id": "6T6PiC-TuOHy",
        "outputId": "595fd958-b966-4e93-ace7-e589f1c1c6ea"
      },
      "execution_count": 25,
      "outputs": [
        {
          "output_type": "stream",
          "name": "stdout",
          "text": [
            "Dictionary after removing 'age': {'name': 'Bob', 'city': 'New York'}\n"
          ]
        }
      ]
    },
    {
      "cell_type": "markdown",
      "source": [
        "Q.25) Write a code to check if the key \"city\" exists in the dictionary {'name':'Alice','city':'Paris'}."
      ],
      "metadata": {
        "id": "t-qEIH9puRYi"
      }
    },
    {
      "cell_type": "code",
      "source": [
        "person = {'name': 'Alice', 'city': 'Paris'}\n",
        "\n",
        "if 'city' in person:\n",
        "    print(\"Key 'city' exists in the dictionary.\")\n",
        "else:\n",
        "    print(\"Key 'city' does not exist in the dictionary.\")\n"
      ],
      "metadata": {
        "colab": {
          "base_uri": "https://localhost:8080/"
        },
        "id": "OreLHq3LuTSD",
        "outputId": "54bf4169-1f6d-4f1b-ee8c-9c92caede992"
      },
      "execution_count": 26,
      "outputs": [
        {
          "output_type": "stream",
          "name": "stdout",
          "text": [
            "Key 'city' exists in the dictionary.\n"
          ]
        }
      ]
    },
    {
      "cell_type": "markdown",
      "source": [
        "Q.26) Write a code to create a list, a tuple, and a dictionary, and print them all."
      ],
      "metadata": {
        "id": "jH0Ja3xluWdr"
      }
    },
    {
      "cell_type": "code",
      "source": [
        "# Create a list\n",
        "my_list = [1, 2, 3]\n",
        "\n",
        "# Create a tuple\n",
        "my_tuple = ('a', 'b', 'c')\n",
        "\n",
        "# Create a dictionary\n",
        "my_dict = {'name': 'John', 'age': 30}\n",
        "\n",
        "# Print all\n",
        "print(\"List:\", my_list)\n",
        "print(\"Tuple:\", my_tuple)\n",
        "print(\"Dictionary:\", my_dict)\n"
      ],
      "metadata": {
        "colab": {
          "base_uri": "https://localhost:8080/"
        },
        "id": "ug68neD8uZVU",
        "outputId": "667dffe2-2eed-437c-fae8-2bd37be91b1e"
      },
      "execution_count": 27,
      "outputs": [
        {
          "output_type": "stream",
          "name": "stdout",
          "text": [
            "List: [1, 2, 3]\n",
            "Tuple: ('a', 'b', 'c')\n",
            "Dictionary: {'name': 'John', 'age': 30}\n"
          ]
        }
      ]
    },
    {
      "cell_type": "markdown",
      "source": [
        "Q.27) Write a code to create a list of 5 random numbers between 1 to 100, sort it in ascending order, print the result.(replaced)"
      ],
      "metadata": {
        "id": "XHsOQJvEub_A"
      }
    },
    {
      "cell_type": "code",
      "source": [
        "import random\n",
        "\n",
        "# Generate list of 5 random numbers between 1 and 100\n",
        "random_numbers = [random.randint(1, 100) for _ in range(5)]\n",
        "\n",
        "# Sort the list in ascending order\n",
        "random_numbers.sort()\n",
        "\n",
        "# Print the sorted list\n",
        "print(\"Sorted list:\", random_numbers)\n"
      ],
      "metadata": {
        "colab": {
          "base_uri": "https://localhost:8080/"
        },
        "id": "Z4BGuftNuels",
        "outputId": "358cb10c-18ee-49b1-b39e-94996233d85c"
      },
      "execution_count": 28,
      "outputs": [
        {
          "output_type": "stream",
          "name": "stdout",
          "text": [
            "Sorted list: [14, 20, 38, 50, 97]\n"
          ]
        }
      ]
    },
    {
      "cell_type": "markdown",
      "source": [
        "Q.28) Write a code to create a list with strings and print the element at the third index."
      ],
      "metadata": {
        "id": "X4D7KlUCujRs"
      }
    },
    {
      "cell_type": "code",
      "source": [
        "my_list = [\"apple\", \"banana\", \"cherry\", \"date\", \"elderberry\"]\n",
        "print(\"Element at index 3:\", my_list[3])\n"
      ],
      "metadata": {
        "colab": {
          "base_uri": "https://localhost:8080/"
        },
        "id": "0jsbpz_5ulz1",
        "outputId": "88e473db-bfbc-4642-9565-b811f52b2eb0"
      },
      "execution_count": 29,
      "outputs": [
        {
          "output_type": "stream",
          "name": "stdout",
          "text": [
            "Element at index 3: date\n"
          ]
        }
      ]
    },
    {
      "cell_type": "markdown",
      "source": [
        "Q.29) Write a code to combine two dictionaries into one and print the result."
      ],
      "metadata": {
        "id": "4YoTyMpMupHt"
      }
    },
    {
      "cell_type": "code",
      "source": [
        "dict1 = {'a': 1, 'b': 2}\n",
        "dict2 = {'c': 3, 'd': 4}\n",
        "\n",
        "# Method 1: Using dictionary unpacking (Python 3.5+)\n",
        "combined_dict = {**dict1, **dict2}\n",
        "\n",
        "print(\"Combined dictionary:\", combined_dict)\n"
      ],
      "metadata": {
        "colab": {
          "base_uri": "https://localhost:8080/"
        },
        "id": "iNQ2JYq7urKu",
        "outputId": "c26dda5c-608c-4e11-c877-01915cc688dd"
      },
      "execution_count": 30,
      "outputs": [
        {
          "output_type": "stream",
          "name": "stdout",
          "text": [
            "Combined dictionary: {'a': 1, 'b': 2, 'c': 3, 'd': 4}\n"
          ]
        }
      ]
    },
    {
      "cell_type": "markdown",
      "source": [
        "Q.30) Write a code to convert a list of strings into a set."
      ],
      "metadata": {
        "id": "dvYKPmh9uuRu"
      }
    },
    {
      "cell_type": "code",
      "source": [
        "string_list = [\"apple\", \"banana\", \"apple\", \"cherry\"]\n",
        "string_set = set(string_list)\n",
        "print(\"Set:\", string_set)\n"
      ],
      "metadata": {
        "id": "iQHVRY41uyjP",
        "outputId": "88c23527-82b3-4630-8fb9-d308000c92d9",
        "colab": {
          "base_uri": "https://localhost:8080/"
        }
      },
      "execution_count": 31,
      "outputs": [
        {
          "output_type": "stream",
          "name": "stdout",
          "text": [
            "Set: {'banana', 'cherry', 'apple'}\n"
          ]
        }
      ]
    }
  ]
}